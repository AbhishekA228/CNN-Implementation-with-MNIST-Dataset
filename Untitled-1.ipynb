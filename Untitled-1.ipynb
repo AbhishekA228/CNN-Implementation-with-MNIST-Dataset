{
 "cells": [
  {
   "cell_type": "code",
   "execution_count": null,
   "metadata": {},
   "outputs": [],
   "source": [
    "import tensorflow as tf\n",
    "from matplotlib import pyplot as pyplot\n",
    "import numpy as np"
   ]
  },
  {
   "cell_type": "code",
   "execution_count": null,
   "metadata": {},
   "outputs": [],
   "source": [
    "pip install scikit-learn"
   ]
  },
  {
   "cell_type": "code",
   "execution_count": 3,
   "metadata": {},
   "outputs": [],
   "source": [
    "import pandas as pd"
   ]
  },
  {
   "cell_type": "code",
   "execution_count": 7,
   "metadata": {},
   "outputs": [],
   "source": [
    "from sklearn.model_selection import train_test_split"
   ]
  },
  {
   "cell_type": "code",
   "execution_count": 16,
   "metadata": {},
   "outputs": [],
   "source": [
    "from sklearn.preprocessing import LabelBinarizer"
   ]
  },
  {
   "cell_type": "code",
   "execution_count": 24,
   "metadata": {},
   "outputs": [
    {
     "name": "stdout",
     "output_type": "stream",
     "text": [
      "(60000, 785)\n"
     ]
    }
   ],
   "source": [
    "print(X_test.shape)"
   ]
  },
  {
   "cell_type": "code",
   "execution_count": 25,
   "metadata": {},
   "outputs": [],
   "source": [
    "# Separate features and labels\n",
    "X_train = train_data.drop('label', axis=1).values.astype('float32')\n",
    "y_train = train_data['label'].values\n",
    "X_test = test_data.values.astype('float32')\n",
    "\n",
    "# Normalize the pixel values to the range [0, 1]\n",
    "X_train = X_train / 255.0\n",
    "X_test = X_test / 255.0\n",
    "\n",
    "# Reshape the data into 28x28 images\n",
    "X_train = X_train.reshape(-1, 28, 28, 1)\n",
    "X_test = X_test[:, 1:].reshape(-1, 28, 28, 1)\n",
    "\n",
    "# One-hot encode the labels\n",
    "label_binarizer = LabelBinarizer()\n",
    "y_train = label_binarizer.fit_transform(y_train)\n",
    "\n",
    "# Split the training data into training and validation sets\n",
    "X_train, X_val, y_train, y_val = train_test_split(X_train, y_train, test_size=0.1, random_state=42)"
   ]
  },
  {
   "cell_type": "code",
   "execution_count": 29,
   "metadata": {},
   "outputs": [
    {
     "name": "stdout",
     "output_type": "stream",
     "text": [
      "WARNING:tensorflow:From C:\\Users\\Abhishek A\\AppData\\Local\\Packages\\PythonSoftwareFoundation.Python.3.10_qbz5n2kfra8p0\\LocalCache\\local-packages\\Python310\\site-packages\\keras\\src\\layers\\pooling\\max_pooling2d.py:161: The name tf.nn.max_pool is deprecated. Please use tf.nn.max_pool2d instead.\n",
      "\n"
     ]
    }
   ],
   "source": [
    "model = tf.keras.Sequential([\n",
    "    tf.keras.layers.Conv2D(32, (3, 3), activation='relu', input_shape=(28, 28, 1)),\n",
    "    tf.keras.layers.MaxPooling2D((2, 2)),\n",
    "    tf.keras.layers.Conv2D(64, (3, 3), activation='relu'),\n",
    "    tf.keras.layers.MaxPooling2D((2, 2)),\n",
    "    tf.keras.layers.Conv2D(64, (3, 3), activation='relu'),\n",
    "    tf.keras.layers.Flatten(),\n",
    "    tf.keras.layers.Dense(64, activation='relu'),\n",
    "    tf.keras.layers.Dense(10, activation='softmax')\n",
    "])\n"
   ]
  },
  {
   "cell_type": "code",
   "execution_count": 30,
   "metadata": {},
   "outputs": [],
   "source": [
    "model.compile(optimizer='adam',\n",
    "              loss='categorical_crossentropy',\n",
    "              metrics=['accuracy'])"
   ]
  },
  {
   "cell_type": "code",
   "execution_count": 31,
   "metadata": {},
   "outputs": [
    {
     "name": "stdout",
     "output_type": "stream",
     "text": [
      "Epoch 1/10\n",
      "WARNING:tensorflow:From C:\\Users\\Abhishek A\\AppData\\Local\\Packages\\PythonSoftwareFoundation.Python.3.10_qbz5n2kfra8p0\\LocalCache\\local-packages\\Python310\\site-packages\\keras\\src\\utils\\tf_utils.py:492: The name tf.ragged.RaggedTensorValue is deprecated. Please use tf.compat.v1.ragged.RaggedTensorValue instead.\n",
      "\n",
      "WARNING:tensorflow:From C:\\Users\\Abhishek A\\AppData\\Local\\Packages\\PythonSoftwareFoundation.Python.3.10_qbz5n2kfra8p0\\LocalCache\\local-packages\\Python310\\site-packages\\keras\\src\\engine\\base_layer_utils.py:384: The name tf.executing_eagerly_outside_functions is deprecated. Please use tf.compat.v1.executing_eagerly_outside_functions instead.\n",
      "\n",
      "141/141 [==============================] - 5s 26ms/step - loss: 0.5813 - accuracy: 0.8221 - val_loss: 0.1988 - val_accuracy: 0.9410\n",
      "Epoch 2/10\n",
      "141/141 [==============================] - 3s 22ms/step - loss: 0.1265 - accuracy: 0.9594 - val_loss: 0.1143 - val_accuracy: 0.9710\n",
      "Epoch 3/10\n",
      "141/141 [==============================] - 3s 23ms/step - loss: 0.0769 - accuracy: 0.9762 - val_loss: 0.1164 - val_accuracy: 0.9660\n",
      "Epoch 4/10\n",
      "141/141 [==============================] - 3s 23ms/step - loss: 0.0560 - accuracy: 0.9811 - val_loss: 0.0968 - val_accuracy: 0.9730\n",
      "Epoch 5/10\n",
      "141/141 [==============================] - 3s 24ms/step - loss: 0.0318 - accuracy: 0.9898 - val_loss: 0.0824 - val_accuracy: 0.9730\n",
      "Epoch 6/10\n",
      "141/141 [==============================] - 3s 23ms/step - loss: 0.0267 - accuracy: 0.9913 - val_loss: 0.0779 - val_accuracy: 0.9740\n",
      "Epoch 7/10\n",
      "141/141 [==============================] - 3s 23ms/step - loss: 0.0165 - accuracy: 0.9954 - val_loss: 0.0874 - val_accuracy: 0.9790\n",
      "Epoch 8/10\n",
      "141/141 [==============================] - 3s 24ms/step - loss: 0.0162 - accuracy: 0.9947 - val_loss: 0.0787 - val_accuracy: 0.9830\n",
      "Epoch 9/10\n",
      "141/141 [==============================] - 3s 24ms/step - loss: 0.0145 - accuracy: 0.9950 - val_loss: 0.0891 - val_accuracy: 0.9770\n",
      "Epoch 10/10\n",
      "141/141 [==============================] - 3s 25ms/step - loss: 0.0116 - accuracy: 0.9968 - val_loss: 0.0726 - val_accuracy: 0.9840\n"
     ]
    }
   ],
   "source": [
    "history = model.fit(X_train, y_train, epochs=10, batch_size=64, validation_data=(X_val, y_val))"
   ]
  },
  {
   "cell_type": "code",
   "execution_count": 37,
   "metadata": {},
   "outputs": [
    {
     "name": "stdout",
     "output_type": "stream",
     "text": [
      "1875/1875 [==============================] - 10s 5ms/step - loss: 0.0945 - accuracy: 0.9777\n",
      "Test accuracy: 0.9776999950408936\n"
     ]
    }
   ],
   "source": [
    "from keras.utils import to_categorical\n",
    "\n",
    "# Load the test labels from the original test data\n",
    "y_test = test_data['label']\n",
    "\n",
    "# One-hot encode the test labels\n",
    "y_test_one_hot = to_categorical(y_test, num_classes=10)\n",
    "\n",
    "# Evaluate the model using the one-hot encoded test labels\n",
    "test_loss, test_acc = model.evaluate(X_test, y_test_one_hot)\n",
    "print('Test accuracy:', test_acc)"
   ]
  },
  {
   "cell_type": "code",
   "execution_count": null,
   "metadata": {},
   "outputs": [],
   "source": []
  }
 ],
 "metadata": {
  "kernelspec": {
   "display_name": "Python 3",
   "language": "python",
   "name": "python3"
  },
  "language_info": {
   "codemirror_mode": {
    "name": "ipython",
    "version": 3
   },
   "file_extension": ".py",
   "mimetype": "text/x-python",
   "name": "python",
   "nbconvert_exporter": "python",
   "pygments_lexer": "ipython3",
   "version": "3.10.11"
  }
 },
 "nbformat": 4,
 "nbformat_minor": 2
}
